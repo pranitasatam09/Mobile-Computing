{
  "nbformat": 4,
  "nbformat_minor": 0,
  "metadata": {
    "colab": {
      "provenance": [],
      "authorship_tag": "ABX9TyN9KZ67L9n/M7aTmFmELKAV",
      "include_colab_link": true
    },
    "kernelspec": {
      "name": "python3",
      "display_name": "Python 3"
    },
    "language_info": {
      "name": "python"
    }
  },
  "cells": [
    {
      "cell_type": "markdown",
      "metadata": {
        "id": "view-in-github",
        "colab_type": "text"
      },
      "source": [
        "<a href=\"https://colab.research.google.com/github/pranitasatam09/Mobile-Computing/blob/main/Experiment4.ipynb\" target=\"_parent\"><img src=\"https://colab.research.google.com/assets/colab-badge.svg\" alt=\"Open In Colab\"/></a>"
      ]
    },
    {
      "cell_type": "code",
      "execution_count": 1,
      "metadata": {
        "colab": {
          "base_uri": "https://localhost:8080/"
        },
        "id": "AFHSoGtDh1mC",
        "outputId": "30486bc9-0eca-4815-b948-2ccb1ca3fb60"
      },
      "outputs": [
        {
          "output_type": "stream",
          "name": "stdout",
          "text": [
            "128 Bit Key =  110110101010000000000001011101100000101111011011000111110010000001000000110000011011011010101100100111100000010000001111011001\n",
            "128 Random Bits Generated =  11101100011111110000011001000010010100110111000101001100000001100110100001111001111010110001001110010100011111101000010011\n",
            "RES/SRES =  00010110001101000010011111011111\n"
          ]
        }
      ],
      "source": [
        "import random\n",
        "\n",
        "k=random.getrandbits(128)\n",
        "m=random.getrandbits(128)\n",
        "kb=bin(k)[2:]\n",
        "mb=bin(m)[2:]\n",
        "kbl=kb[0:64]\n",
        "kbr=kb[64:]\n",
        "mbl=mb[0:64]\n",
        "mbr=mb[64:]\n",
        "a1=int(kbl,2)^int(mbr,2)\n",
        "a2=int(kbr,2)^int(mbl,2)\n",
        "a3=a1^a2\n",
        "a4=bin(a3)[2:].zfill(64)\n",
        "a5=a4[0:32]\n",
        "a6=a4[32:]\n",
        "a7=int(a5,2)^int(a6,2)\n",
        "print(\"128 Bit Key = \",kb)\n",
        "print(\"128 Random Bits Generated = \",mb)\n",
        "print(\"RES/SRES = \",bin(a7)[2:].zfill(len(a5)))"
      ]
    }
  ]
}
